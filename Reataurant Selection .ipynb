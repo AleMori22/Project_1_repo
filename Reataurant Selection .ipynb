{
 "cells": [
  {
   "cell_type": "code",
   "execution_count": null,
   "id": "090bcc1a",
   "metadata": {},
   "outputs": [],
   "source": [
    "import hvplot.pandas\n",
    "import pandas as pd\n",
    "import requests\n",
    "from pprint import pprint\n",
    "\n",
    "\n",
    "from keys import Trip_advisor_key\n",
    "from keys import geoapify_key"
   ]
  },
  {
   "cell_type": "code",
   "execution_count": null,
   "id": "a0ff037e",
   "metadata": {},
   "outputs": [],
   "source": [
    "# Defining the District dataframe\n",
    "\n",
    "Districts_df = pd.DataFrame({\n",
    "    'Location': ['Toronto Distillery District', 'Toronto GTA Area', 'Toronto South West', 'Toronto North West', 'Toronto Yorkville', 'Ottawa City Centre' , 'Niagara Falls'],\n",
    "    'Lat': [43.6503, 43.6426, 43.642567, 43.6552, 43.6707 , 45.4236, 43.087586], \n",
    "    'Lng': [-79.3596, 79.3871, -79.387054, -79.4139,  -79.3930 , -75.7009, -79.081206]  \n",
    "})\n",
    "\n",
    "\n",
    "# Defining the Restaurant DataFrame\n",
    "\n",
    "Restaurants_df = pd.DataFrame(columns=['Location', 'Restaurant Name', 'Postal Code', 'Restaurant Address', 'Lat', 'Lng'])\n",
    "\n",
    "# Loop for districts\n",
    "radius = 1000\n",
    "\n",
    "params = {\n",
    "    'categories': 'catering.restaurant',\n",
    "    'apiKey': geoapify_key,\n",
    "}\n",
    "\n",
    "base_url = 'https://api.geoapify.com/v2/places'\n",
    "\n",
    "for index, row in Districts_df.iterrows():\n",
    "    latitude = row['Lat']\n",
    "    longitude = row['Lng']\n",
    "\n",
    "    params['filter'] = f'circle:{longitude},{latitude},{radius}'\n",
    "    params['bias'] = f'proximity:{longitude},{latitude}'\n",
    "\n",
    "    response = requests.get(base_url, params=params).json()\n",
    "    for restaurant in response.get('features', []):\n",
    "        try:\n",
    "            \n",
    "            new_row = {\n",
    "                            'Location': row['Location'],\n",
    "                            'Restaurant Name': restaurant[\"properties\"][\"address_line1\"],\n",
    "                            'Postal Code' : restaurant[\"properties\"][\"postcode\"],\n",
    "                            'Restaurant Address': restaurant[\"properties\"][\"address_line2\"],\n",
    "                            'Lat': restaurant[\"geometry\"][\"coordinates\"][1],\n",
    "                            'Lng': restaurant[\"geometry\"][\"coordinates\"][0]\n",
    "                        }\n",
    "            \n",
    "            Restaurants_df.loc[len(Restaurants_df)] = new_row\n",
    "        except(KeyError, IndexError):\n",
    "            print('Errore nella gestione dei dati del ristorante.')\n"
   ]
  },
  {
   "cell_type": "code",
   "execution_count": null,
   "id": "bdc02240",
   "metadata": {},
   "outputs": [],
   "source": [
    "Restaurants_df.head()"
   ]
  },
  {
   "cell_type": "code",
   "execution_count": null,
   "id": "db5dc48c",
   "metadata": {},
   "outputs": [],
   "source": [
    "Restaurants_df['Location ID'] = ''\n",
    "\n",
    "err_count = 0\n",
    "\n",
    "for index, restaurant in Restaurants_df.iterrows():\n",
    "    \n",
    "    url = f\"https://api.content.tripadvisor.com/api/v1/location/search?key={Trip_advisor_key}&searchQuery={restaurant['Restaurant Name']}&language=en\"\n",
    "\n",
    "    headers = {\"accept\": \"application/json\"}\n",
    "\n",
    "    response = requests.get(url, headers=headers).json()\n",
    "    \n",
    "    try:\n",
    "        \n",
    "        for res in response['data']:\n",
    "            \n",
    "            #pprint(res['address_obj']['postalcode'])\n",
    "    \n",
    "            if res['address_obj']['postalcode'] == restaurant['Postal Code']:\n",
    "            \n",
    "                Restaurants_df.at[index, 'Location ID'] = res['location_id']\n",
    "                \n",
    "                break\n",
    "    \n",
    "    except Exception as e:\n",
    "        \n",
    "        err_count = err_count +1\n",
    "        \n",
    "        \n",
    "            \n",
    "    \n",
    "        \n",
    "\n",
    "#print(response.text)\n",
    "print(err_count)\n",
    "Restaurants_df.head()"
   ]
  },
  {
   "cell_type": "code",
   "execution_count": null,
   "id": "13b3992b",
   "metadata": {},
   "outputs": [],
   "source": [
    "Restaurants_df = Restaurants_df[Restaurants_df['Location ID'] != '']"
   ]
  },
  {
   "cell_type": "code",
   "execution_count": null,
   "id": "52c8da50",
   "metadata": {},
   "outputs": [],
   "source": [
    "# Export the City_Data into a csv\n",
    "Restaurants_df.to_csv(\"output_data/restaurants.csv\", index_label=\"Restaurant ID\")"
   ]
  },
  {
   "cell_type": "code",
   "execution_count": null,
   "id": "efde1cb5",
   "metadata": {},
   "outputs": [],
   "source": [
    "Restaurants_df"
   ]
  }
 ],
 "metadata": {
  "kernelspec": {
   "display_name": "Python 3 (ipykernel)",
   "language": "python",
   "name": "python3"
  },
  "language_info": {
   "codemirror_mode": {
    "name": "ipython",
    "version": 3
   },
   "file_extension": ".py",
   "mimetype": "text/x-python",
   "name": "python",
   "nbconvert_exporter": "python",
   "pygments_lexer": "ipython3",
   "version": "3.11.5"
  }
 },
 "nbformat": 4,
 "nbformat_minor": 5
}
