{
 "cells": [
  {
   "cell_type": "code",
   "execution_count": 15,
   "id": "53da7fac",
   "metadata": {},
   "outputs": [],
   "source": [
    "# Dependencies and Setup\n",
    "import matplotlib.pyplot as plt\n",
    "import pandas as pd\n",
    "import numpy as np\n",
    "from pathlib import Path\n",
    "from pprint import pprint\n",
    "import requests\n",
    "from config import api_key"
   ]
  },
  {
   "cell_type": "code",
   "execution_count": 16,
   "id": "8cf21f78",
   "metadata": {},
   "outputs": [
    {
     "ename": "KeyError",
     "evalue": "'location'",
     "output_type": "error",
     "traceback": [
      "\u001b[1;31m---------------------------------------------------------------------------\u001b[0m",
      "\u001b[1;31mKeyError\u001b[0m                                  Traceback (most recent call last)",
      "Cell \u001b[1;32mIn[16], line 51\u001b[0m\n\u001b[0;32m     47\u001b[0m details \u001b[38;5;241m=\u001b[39m requests\u001b[38;5;241m.\u001b[39mget(det_url, headers\u001b[38;5;241m=\u001b[39mheaders, params\u001b[38;5;241m=\u001b[39mdets_querystring)  \n\u001b[0;32m     49\u001b[0m \u001b[38;5;28;01mif\u001b[39;00m \u001b[38;5;124m'\u001b[39m\u001b[38;5;124mdata\u001b[39m\u001b[38;5;124m'\u001b[39m \u001b[38;5;129;01min\u001b[39;00m details\u001b[38;5;241m.\u001b[39mjson():\n\u001b[1;32m---> 51\u001b[0m     res_add\u001b[38;5;241m.\u001b[39mappend(details\u001b[38;5;241m.\u001b[39mjson()[\u001b[38;5;124m\"\u001b[39m\u001b[38;5;124mdata\u001b[39m\u001b[38;5;124m\"\u001b[39m][\u001b[38;5;124m'\u001b[39m\u001b[38;5;124mlocation\u001b[39m\u001b[38;5;124m'\u001b[39m][\u001b[38;5;124m\"\u001b[39m\u001b[38;5;124maddress\u001b[39m\u001b[38;5;124m\"\u001b[39m])\n\u001b[0;32m     52\u001b[0m     res_name\u001b[38;5;241m.\u001b[39mappend(details\u001b[38;5;241m.\u001b[39mjson()[\u001b[38;5;124m\"\u001b[39m\u001b[38;5;124mdata\u001b[39m\u001b[38;5;124m\"\u001b[39m][\u001b[38;5;124m'\u001b[39m\u001b[38;5;124mlocation\u001b[39m\u001b[38;5;124m'\u001b[39m][\u001b[38;5;124m'\u001b[39m\u001b[38;5;124mname\u001b[39m\u001b[38;5;124m'\u001b[39m])\n\u001b[0;32m     54\u001b[0m     \u001b[38;5;28;01mif\u001b[39;00m \u001b[38;5;28mint\u001b[39m(details\u001b[38;5;241m.\u001b[39mjson()[\u001b[38;5;124m\"\u001b[39m\u001b[38;5;124mdata\u001b[39m\u001b[38;5;124m\"\u001b[39m][\u001b[38;5;124m'\u001b[39m\u001b[38;5;124mlocation\u001b[39m\u001b[38;5;124m'\u001b[39m][\u001b[38;5;124m\"\u001b[39m\u001b[38;5;124mnum_reviews\u001b[39m\u001b[38;5;124m\"\u001b[39m]) \u001b[38;5;241m>\u001b[39m \u001b[38;5;241m0\u001b[39m:\n",
      "\u001b[1;31mKeyError\u001b[0m: 'location'"
     ]
    }
   ],
   "source": [
    "\n",
    "#Trip Advisor\n",
    "\n",
    "city = [\"Toronto\",\"Ottawa\",\"Montreal\"]#,\"Calgary\",\"Edmonton\",\"Winnipeg\",\"Mississauga\",\"Vancouver\",\"Brampton\",\"Hamilton\"]\n",
    "city_url = \"https://tripadvisor16.p.rapidapi.com/api/v1/restaurant/searchLocation\"\n",
    "hey = []\n",
    "res_name = []\n",
    "res_add = []\n",
    "review_dates = []\n",
    "\n",
    "for cities in city:\n",
    "    city_querystring = {\"query\": cities}\n",
    "\n",
    "    headers = {\n",
    "    \"X-RapidAPI-Key\": api_key,\n",
    "    \"X-RapidAPI-Host\": \"tripadvisor16.p.rapidapi.com\"\n",
    "    }\n",
    "\n",
    "    response = requests.get(city_url, headers=headers, params= city_querystring)\n",
    "\n",
    "\n",
    "    \n",
    "\n",
    "\n",
    "\n",
    "    location_id = (response.json()[\"data\"][0][\"locationId\"])\n",
    "\n",
    "    loc_url = \"https://tripadvisor16.p.rapidapi.com/api/v1/restaurant/searchRestaurants\"\n",
    "\n",
    "\n",
    "\n",
    "    loc_querystring = {\"locationId\":location_id,\"page\": page_num}\n",
    "\n",
    "    resturants = requests.get(loc_url, headers=headers, params=loc_querystring)\n",
    "\n",
    "\n",
    "    for i in range(len(resturants.json()[\"data\"][\"data\"])):\n",
    "        hey.append(resturants.json()[\"data\"][\"data\"][i][\"restaurantsId\"])\n",
    "\n",
    "\n",
    "    det_url = \"https://tripadvisor16.p.rapidapi.com/api/v1/restaurant/getRestaurantDetails\"\n",
    "\n",
    "\n",
    "\n",
    "    for res_id in hey:\n",
    "\n",
    "        dets_querystring = {\"restaurantsId\":res_id,\"currencyCode\":\"USD\"}    \n",
    "        details = requests.get(det_url, headers=headers, params=dets_querystring)  \n",
    "\n",
    "        if 'data' in details.json():\n",
    "\n",
    "            res_add.append(details.json()[\"data\"]['location'][\"address\"])\n",
    "            res_name.append(details.json()[\"data\"]['location']['name'])\n",
    "\n",
    "            if int(details.json()[\"data\"]['location'][\"num_reviews\"]) > 0:\n",
    "                review_dates.append(details.json()[\"data\"]['location'][\"photo\"][\"published_date\"])\n",
    "            else:\n",
    "                review_dates.append(\"\")\n",
    "\n",
    "\n",
    "\n",
    "\n",
    "datas = {\n",
    "    \"Name\" : res_name,\n",
    "    \"Address\" : res_add,\n",
    "    \"Reviews\" : review_dates\n",
    "    \n",
    "    \n",
    "}\n",
    "\n",
    "\n",
    "dfs = pd.DataFrame(data)\n",
    "\n",
    "\n",
    "dfs\n",
    "\n",
    "    "
   ]
  },
  {
   "cell_type": "code",
   "execution_count": 14,
   "id": "b3715e51",
   "metadata": {},
   "outputs": [],
   "source": [
    "dfs.to_csv(\"CSV/Trip_Advisors.csv\")"
   ]
  },
  {
   "cell_type": "code",
   "execution_count": null,
   "id": "ef508b15",
   "metadata": {},
   "outputs": [],
   "source": []
  }
 ],
 "metadata": {
  "kernelspec": {
   "display_name": "Python 3 (ipykernel)",
   "language": "python",
   "name": "python3"
  },
  "language_info": {
   "codemirror_mode": {
    "name": "ipython",
    "version": 3
   },
   "file_extension": ".py",
   "mimetype": "text/x-python",
   "name": "python",
   "nbconvert_exporter": "python",
   "pygments_lexer": "ipython3",
   "version": "3.11.5"
  }
 },
 "nbformat": 4,
 "nbformat_minor": 5
}
