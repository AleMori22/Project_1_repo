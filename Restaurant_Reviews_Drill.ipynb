{
 "cells": [
  {
   "cell_type": "code",
   "execution_count": 6,
   "id": "f9188861",
   "metadata": {},
   "outputs": [],
   "source": [
    "\n",
    "import pandas as pd\n",
    "import requests\n",
    "\n",
    "from keys import Trip_advisor_key"
   ]
  },
  {
   "cell_type": "code",
   "execution_count": 7,
   "id": "e713b0f0",
   "metadata": {},
   "outputs": [],
   "source": [
    "#Import restaurants.csv\n",
    "Restaurants_df = pd.read_csv('output/restaurants.csv')"
   ]
  },
  {
   "cell_type": "code",
   "execution_count": 8,
   "id": "845a43e7",
   "metadata": {},
   "outputs": [],
   "source": [
    "#Drill for reviews \n",
    "\n",
    "#New df Reviews\n",
    "Reviews_df = pd.DataFrame(columns=['Location','Restaurant Name','Lat','Lng','Review'])\n",
    "\n",
    "#Looooppping!!! Again. Yes.\n",
    "for index, restaurant in Restaurants_df.iterrows():\n",
    "    \n",
    "    url = f\"https://api.content.tripadvisor.com/api/v1/location/{restaurant['Location ID']}/reviews?key={Trip_advisor_key}&language=en\"\n",
    "    \n",
    "    headers = {\"accept\": \"application/json\"}\n",
    "    \n",
    "    response = requests.get(url, headers=headers).json()\n",
    "    \n",
    "    #Let's try this!!!\n",
    "    try:\n",
    "        \n",
    "        for res in response['data']: \n",
    "            \n",
    "            new_row = {'Location' : restaurant['Location'],\n",
    "                       'Restaurant Name' : restaurant['Restaurant Name'],\n",
    "                       'Lat': restaurant['Lat'],\n",
    "                       'Lng': restaurant['Lng'],\n",
    "                       'Review' : res['rating']}\n",
    "            Reviews_df.loc[len(Reviews_df)] = new_row\n",
    "    \n",
    "    except(KeyError, IndexError):\n",
    "            print('Error.')\n",
    "            "
   ]
  },
  {
   "cell_type": "code",
   "execution_count": 9,
   "id": "8b5a364e",
   "metadata": {},
   "outputs": [
    {
     "data": {
      "text/html": [
       "<div>\n",
       "<style scoped>\n",
       "    .dataframe tbody tr th:only-of-type {\n",
       "        vertical-align: middle;\n",
       "    }\n",
       "\n",
       "    .dataframe tbody tr th {\n",
       "        vertical-align: top;\n",
       "    }\n",
       "\n",
       "    .dataframe thead th {\n",
       "        text-align: right;\n",
       "    }\n",
       "</style>\n",
       "<table border=\"1\" class=\"dataframe\">\n",
       "  <thead>\n",
       "    <tr style=\"text-align: right;\">\n",
       "      <th></th>\n",
       "      <th>Location</th>\n",
       "      <th>Restaurant Name</th>\n",
       "      <th>Lat</th>\n",
       "      <th>Lng</th>\n",
       "      <th>Review</th>\n",
       "    </tr>\n",
       "  </thead>\n",
       "  <tbody>\n",
       "    <tr>\n",
       "      <th>0</th>\n",
       "      <td>Toronto Distillery District</td>\n",
       "      <td>Archeo Trattoria</td>\n",
       "      <td>43.650682</td>\n",
       "      <td>-79.35963</td>\n",
       "      <td>2</td>\n",
       "    </tr>\n",
       "    <tr>\n",
       "      <th>1</th>\n",
       "      <td>Toronto Distillery District</td>\n",
       "      <td>Archeo Trattoria</td>\n",
       "      <td>43.650682</td>\n",
       "      <td>-79.35963</td>\n",
       "      <td>3</td>\n",
       "    </tr>\n",
       "    <tr>\n",
       "      <th>2</th>\n",
       "      <td>Toronto Distillery District</td>\n",
       "      <td>Archeo Trattoria</td>\n",
       "      <td>43.650682</td>\n",
       "      <td>-79.35963</td>\n",
       "      <td>1</td>\n",
       "    </tr>\n",
       "    <tr>\n",
       "      <th>3</th>\n",
       "      <td>Toronto Distillery District</td>\n",
       "      <td>Archeo Trattoria</td>\n",
       "      <td>43.650682</td>\n",
       "      <td>-79.35963</td>\n",
       "      <td>5</td>\n",
       "    </tr>\n",
       "    <tr>\n",
       "      <th>4</th>\n",
       "      <td>Toronto Distillery District</td>\n",
       "      <td>Archeo Trattoria</td>\n",
       "      <td>43.650682</td>\n",
       "      <td>-79.35963</td>\n",
       "      <td>5</td>\n",
       "    </tr>\n",
       "  </tbody>\n",
       "</table>\n",
       "</div>"
      ],
      "text/plain": [
       "                      Location   Restaurant Name        Lat       Lng  Review\n",
       "0  Toronto Distillery District  Archeo Trattoria  43.650682 -79.35963       2\n",
       "1  Toronto Distillery District  Archeo Trattoria  43.650682 -79.35963       3\n",
       "2  Toronto Distillery District  Archeo Trattoria  43.650682 -79.35963       1\n",
       "3  Toronto Distillery District  Archeo Trattoria  43.650682 -79.35963       5\n",
       "4  Toronto Distillery District  Archeo Trattoria  43.650682 -79.35963       5"
      ]
     },
     "execution_count": 9,
     "metadata": {},
     "output_type": "execute_result"
    }
   ],
   "source": [
    "#Show the dataset\n",
    "Reviews_df.head()"
   ]
  },
  {
   "cell_type": "code",
   "execution_count": 10,
   "id": "ac4cc49d",
   "metadata": {},
   "outputs": [],
   "source": [
    "#Dataframe to csv\n",
    "Reviews_df.to_csv(\"output/Reviews.csv\", index = False)"
   ]
  },
  {
   "cell_type": "code",
   "execution_count": null,
   "id": "62a6e9f4",
   "metadata": {},
   "outputs": [],
   "source": []
  }
 ],
 "metadata": {
  "kernelspec": {
   "display_name": "Python 3 (ipykernel)",
   "language": "python",
   "name": "python3"
  },
  "language_info": {
   "codemirror_mode": {
    "name": "ipython",
    "version": 3
   },
   "file_extension": ".py",
   "mimetype": "text/x-python",
   "name": "python",
   "nbconvert_exporter": "python",
   "pygments_lexer": "ipython3",
   "version": "3.11.5"
  }
 },
 "nbformat": 4,
 "nbformat_minor": 5
}
