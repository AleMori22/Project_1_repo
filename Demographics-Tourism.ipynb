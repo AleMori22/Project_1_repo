{
 "cells": [
  {
   "cell_type": "code",
   "execution_count": 54,
   "metadata": {
    "scrolled": true
   },
   "outputs": [],
   "source": [
    "# Dependencies and Setup\n",
    "from census import Census\n",
    "from config import census_key\n",
    "import hvplot.pandas\n",
    "import pandas as pd\n",
    "import requests\n",
    "import time\n",
    "from scipy.stats import linregress\n",
    "from matplotlib import pyplot as plt\n",
    "\n",
    "import warnings\n",
    "warnings.filterwarnings(\"ignore\")"
   ]
  },
  {
   "cell_type": "code",
   "execution_count": 69,
   "metadata": {
    "scrolled": true
   },
   "outputs": [
    {
     "name": "stdout",
     "output_type": "stream",
     "text": [
      "     Year       Status   Origin Destination  Spending per Visit (dollars)\n",
      "0    2013       Actual   Canada     Ontario                    122.253154\n",
      "1    2014  Preliminary   Canada     Ontario                    134.828500\n",
      "2    2015     Forecast   Canada     Ontario                    127.198779\n",
      "3    2016     Forecast   Canada     Ontario                    123.916172\n",
      "4    2017     Forecast   Canada     Ontario                    134.255157\n",
      "..    ...          ...      ...         ...                           ...\n",
      "142  2015     Forecast  Ontario    Overseas                   2446.755506\n",
      "143  2016     Forecast  Ontario    Overseas                   2540.711133\n",
      "144  2017     Forecast  Ontario    Overseas                   2733.887185\n",
      "145  2018     Forecast  Ontario    Overseas                   2885.331554\n",
      "146  2019     Forecast  Ontario    Overseas                   2983.818806\n",
      "\n",
      "[147 rows x 5 columns]\n"
     ]
    }
   ],
   "source": [
    "starter = pd.read_csv('Demographics.csv')\n",
    "#print(starter)\n",
    "\n",
    "pre_covid = starter [[\"Year\",\"Status\",\"Origin\",\"Destination\",\"Spending per Visit (dollars)\"]]\n",
    "print(pre_covid)\n",
    "\n",
    "new_df = pre_covid.groupby(\"Year\").sort\n"
   ]
  },
  {
   "cell_type": "code",
   "execution_count": 76,
   "metadata": {},
   "outputs": [
    {
     "ename": "TypeError",
     "evalue": "'bool' object is not subscriptable",
     "output_type": "error",
     "traceback": [
      "\u001b[1;31m---------------------------------------------------------------------------\u001b[0m",
      "\u001b[1;31mTypeError\u001b[0m                                 Traceback (most recent call last)",
      "Cell \u001b[1;32mIn[76], line 1\u001b[0m\n\u001b[1;32m----> 1\u001b[0m x_values \u001b[38;5;241m=\u001b[39m new_df[\u001b[38;5;124m\"\u001b[39m\u001b[38;5;124mYear\u001b[39m\u001b[38;5;124m\"\u001b[39m]\u001b[38;5;241m.\u001b[39mastype(\u001b[38;5;28mint\u001b[39m)\n\u001b[0;32m      3\u001b[0m plt\u001b[38;5;241m.\u001b[39mscatter(x_values,new_df[\u001b[38;5;124m\"\u001b[39m\u001b[38;5;124mSpending per Visit (dollars)\u001b[39m\u001b[38;5;124m\"\u001b[39m])\n",
      "\u001b[1;31mTypeError\u001b[0m: 'bool' object is not subscriptable"
     ]
    }
   ],
   "source": [
    "x_values = new_df[\"Year\"].astype(int)\n",
    "\n",
    "plt.scatter(x_values,new_df[\"Spending per Visit (dollars)\"])"
   ]
  },
  {
   "cell_type": "code",
   "execution_count": null,
   "metadata": {},
   "outputs": [],
   "source": []
  }
 ],
 "metadata": {
  "anaconda-cloud": {},
  "kernel_info": {
   "name": "python3"
  },
  "kernelspec": {
   "display_name": "Python 3 (ipykernel)",
   "language": "python",
   "name": "python3"
  },
  "language_info": {
   "codemirror_mode": {
    "name": "ipython",
    "version": 3
   },
   "file_extension": ".py",
   "mimetype": "text/x-python",
   "name": "python",
   "nbconvert_exporter": "python",
   "pygments_lexer": "ipython3",
   "version": "3.11.5"
  },
  "latex_envs": {
   "LaTeX_envs_menu_present": true,
   "autoclose": false,
   "autocomplete": true,
   "bibliofile": "biblio.bib",
   "cite_by": "apalike",
   "current_citInitial": 1,
   "eqLabelWithNumbers": true,
   "eqNumInitial": 1,
   "hotkeys": {
    "equation": "Ctrl-E",
    "itemize": "Ctrl-I"
   },
   "labels_anchors": false,
   "latex_user_defs": false,
   "report_style_numbering": false,
   "user_envs_cfg": false
  },
  "nteract": {
   "version": "0.8.4"
  },
  "vscode": {
   "interpreter": {
    "hash": "5384d77d82de63fd599f73e77f9ec786e7719288bf80a29ec0288c670ac3cf32"
   }
  }
 },
 "nbformat": 4,
 "nbformat_minor": 4
}
