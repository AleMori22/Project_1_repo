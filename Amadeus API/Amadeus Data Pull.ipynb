{
 "cells": [
  {
   "cell_type": "markdown",
   "id": "7d4f77d2",
   "metadata": {},
   "source": [
    "Unfortunately no flight data for YYZ in Amadeus test API. "
   ]
  },
  {
   "cell_type": "code",
   "execution_count": 1,
   "id": "aee411c1",
   "metadata": {},
   "outputs": [],
   "source": [
    "#load dependencies\n",
    "import matplotlib.pyplot as plt\n",
    "import pandas as pd\n",
    "import numpy as np\n",
    "import requests\n",
    "import time\n",
    "from scipy.stats import linregress\n",
    "\n",
    "#import Amadeus key: \n",
    "\n",
    "from config import amadeus_key\n",
    "from config import amadeus_secret\n"
   ]
  },
  {
   "cell_type": "code",
   "execution_count": 2,
   "id": "404cf021",
   "metadata": {},
   "outputs": [
    {
     "name": "stdout",
     "output_type": "stream",
     "text": [
      "Access Token: gT03QhuiZ6fLmA6qsJwotb5d1VgF\n"
     ]
    }
   ],
   "source": [
    "import requests\n",
    "\n",
    "# API endpoint for requesting access token\n",
    "token_url = \"https://test.api.amadeus.com/v1/security/oauth2/token\"\n",
    "\n",
    "# Payload for the request\n",
    "payload = {\n",
    "    'grant_type': 'client_credentials',\n",
    "    'client_id': amadeus_key,\n",
    "    'client_secret': amadeus_secret\n",
    "}\n",
    "\n",
    "# Make the request\n",
    "response = requests.post(token_url, data=payload)\n",
    "\n",
    "# Check if the request was successful (status code 200)\n",
    "if response.status_code == 200:\n",
    "    access_token = response.json().get('access_token')\n",
    "    print(\"Access Token:\", access_token)\n",
    "else:\n",
    "    print(\"Error:\", response.text)\n"
   ]
  },
  {
   "cell_type": "code",
   "execution_count": 9,
   "id": "602e4e64",
   "metadata": {},
   "outputs": [
    {
     "name": "stdout",
     "output_type": "stream",
     "text": [
      "https://test.api.amadeus.com/v1/travel/analytics/air-traffic/busiest-period?cityCode=yyz&direction=ARRIVING&period=2021\n",
      "API Request Successful\n",
      "{'meta': {'count': 0, 'links': {'self': 'https://test.api.amadeus.com/v1/travel/analytics/air-traffic/busiest-period?cityCode=yyz&direction=ARRIVING&period=2021'}}, 'data': []}\n"
     ]
    }
   ],
   "source": [
    "import requests\n",
    "\n",
    "# Amadeus API endpoint\n",
    "base_url = \"https://test.api.amadeus.com/v1/travel/analytics/air-traffic/busiest-period\"\n",
    "\n",
    "# Identify params\n",
    "params = {\"cityCode\": \"yyz\", \"direction\": \"ARRIVING\", \"period\": '2021'}\n",
    "\n",
    "access_token = 'gT03QhuiZ6fLmA6qsJwotb5d1VgF'\n",
    "\n",
    "# Set Authorization header\n",
    "headers = {\n",
    "    'Authorization': f'Bearer {access_token}'\n",
    "}\n",
    "\n",
    "# Make an API request\n",
    "API_request = requests.get(base_url, params=params, headers=headers)\n",
    "\n",
    "# Print the complete URL for reference\n",
    "print(API_request.url)\n",
    "\n",
    "# Check the response\n",
    "if API_request.status_code == 200:\n",
    "    print(\"API Request Successful\")\n",
    "    print(API_request.json())\n",
    "else:\n",
    "    print(\"Error:\", API_request.text)\n",
    "\n",
    "\n"
   ]
  },
  {
   "cell_type": "code",
   "execution_count": null,
   "id": "16f80ba5",
   "metadata": {},
   "outputs": [],
   "source": []
  }
 ],
 "metadata": {
  "kernelspec": {
   "display_name": "Python 3 (ipykernel)",
   "language": "python",
   "name": "python3"
  },
  "language_info": {
   "codemirror_mode": {
    "name": "ipython",
    "version": 3
   },
   "file_extension": ".py",
   "mimetype": "text/x-python",
   "name": "python",
   "nbconvert_exporter": "python",
   "pygments_lexer": "ipython3",
   "version": "3.11.5"
  }
 },
 "nbformat": 4,
 "nbformat_minor": 5
}
