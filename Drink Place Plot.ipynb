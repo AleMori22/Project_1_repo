{
 "cells": [
  {
   "cell_type": "code",
   "execution_count": 2,
   "id": "aaefa168",
   "metadata": {},
   "outputs": [],
   "source": [
    "# Dependencies and Setup\n",
    "import matplotlib.pyplot as plt\n",
    "import pandas as pd\n",
    "import numpy as np\n",
    "from pathlib import Path\n",
    "from pprint import pprint"
   ]
  },
  {
   "cell_type": "code",
   "execution_count": 41,
   "id": "4a14989a",
   "metadata": {},
   "outputs": [
    {
     "data": {
      "text/html": [
       "<div>\n",
       "<style scoped>\n",
       "    .dataframe tbody tr th:only-of-type {\n",
       "        vertical-align: middle;\n",
       "    }\n",
       "\n",
       "    .dataframe tbody tr th {\n",
       "        vertical-align: top;\n",
       "    }\n",
       "\n",
       "    .dataframe thead th {\n",
       "        text-align: right;\n",
       "    }\n",
       "</style>\n",
       "<table border=\"1\" class=\"dataframe\">\n",
       "  <thead>\n",
       "    <tr style=\"text-align: right;\">\n",
       "      <th></th>\n",
       "      <th>Date</th>\n",
       "      <th>Month Sales (Thousands)</th>\n",
       "    </tr>\n",
       "  </thead>\n",
       "  <tbody>\n",
       "    <tr>\n",
       "      <th>0</th>\n",
       "      <td>Jan '18</td>\n",
       "      <td>19.77</td>\n",
       "    </tr>\n",
       "    <tr>\n",
       "      <th>1</th>\n",
       "      <td>Feb '18</td>\n",
       "      <td>20.19</td>\n",
       "    </tr>\n",
       "    <tr>\n",
       "      <th>2</th>\n",
       "      <td>Mar '18</td>\n",
       "      <td>205.09</td>\n",
       "    </tr>\n",
       "    <tr>\n",
       "      <th>3</th>\n",
       "      <td>Apr '18</td>\n",
       "      <td>209.91</td>\n",
       "    </tr>\n",
       "    <tr>\n",
       "      <th>4</th>\n",
       "      <td>May '18</td>\n",
       "      <td>211.16</td>\n",
       "    </tr>\n",
       "    <tr>\n",
       "      <th>...</th>\n",
       "      <td>...</td>\n",
       "      <td>...</td>\n",
       "    </tr>\n",
       "    <tr>\n",
       "      <th>63</th>\n",
       "      <td>Apr '23</td>\n",
       "      <td>197.70</td>\n",
       "    </tr>\n",
       "    <tr>\n",
       "      <th>64</th>\n",
       "      <td>May '23</td>\n",
       "      <td>206.38</td>\n",
       "    </tr>\n",
       "    <tr>\n",
       "      <th>65</th>\n",
       "      <td>Jun '23</td>\n",
       "      <td>207.99</td>\n",
       "    </tr>\n",
       "    <tr>\n",
       "      <th>66</th>\n",
       "      <td>Jul '23</td>\n",
       "      <td>210.92</td>\n",
       "    </tr>\n",
       "    <tr>\n",
       "      <th>67</th>\n",
       "      <td>Aug '23</td>\n",
       "      <td>210.63</td>\n",
       "    </tr>\n",
       "  </tbody>\n",
       "</table>\n",
       "<p>68 rows × 2 columns</p>\n",
       "</div>"
      ],
      "text/plain": [
       "       Date   Month Sales (Thousands)\n",
       "0   Jan '18                     19.77\n",
       "1   Feb '18                     20.19\n",
       "2   Mar '18                    205.09\n",
       "3   Apr '18                    209.91\n",
       "4   May '18                    211.16\n",
       "..      ...                       ...\n",
       "63  Apr '23                    197.70\n",
       "64  May '23                    206.38\n",
       "65  Jun '23                    207.99\n",
       "66  Jul '23                    210.92\n",
       "67  Aug '23                    210.63\n",
       "\n",
       "[68 rows x 2 columns]"
      ]
     },
     "execution_count": 41,
     "metadata": {},
     "output_type": "execute_result"
    }
   ],
   "source": [
    "# Save file path to variable\n",
    "drink_csv = Path(\"Resources/Drinking Stat - Copy.csv\")\n",
    "\n",
    "# Read with Pandas\n",
    "drink_df = pd.read_csv(drink_csv)\n",
    "drink_df\n"
   ]
  },
  {
   "cell_type": "code",
   "execution_count": 48,
   "id": "ed04ca7a",
   "metadata": {},
   "outputs": [
    {
     "data": {
      "text/plain": [
       "([<matplotlib.axis.XTick at 0x25cb3346910>,\n",
       "  <matplotlib.axis.XTick at 0x25cb334ead0>,\n",
       "  <matplotlib.axis.XTick at 0x25cb324efd0>,\n",
       "  <matplotlib.axis.XTick at 0x25cb3068990>,\n",
       "  <matplotlib.axis.XTick at 0x25cb306ad50>,\n",
       "  <matplotlib.axis.XTick at 0x25cb308a8d0>,\n",
       "  <matplotlib.axis.XTick at 0x25cb308a990>,\n",
       "  <matplotlib.axis.XTick at 0x25cb25a9ed0>,\n",
       "  <matplotlib.axis.XTick at 0x25cb25a8890>,\n",
       "  <matplotlib.axis.XTick at 0x25cb25a5e50>,\n",
       "  <matplotlib.axis.XTick at 0x25cafa63310>,\n",
       "  <matplotlib.axis.XTick at 0x25cb21a3ad0>,\n",
       "  <matplotlib.axis.XTick at 0x25cb3042850>],\n",
       " [Text(0, 0, 'January 2018'),\n",
       "  Text(5, 0, 'June 2018'),\n",
       "  Text(12, 0, 'January 2019'),\n",
       "  Text(17, 0, 'June 2019'),\n",
       "  Text(24, 0, 'January 2020'),\n",
       "  Text(29, 0, 'June 2020'),\n",
       "  Text(36, 0, 'January 2021'),\n",
       "  Text(41, 0, 'June 2021'),\n",
       "  Text(48, 0, 'January 2022'),\n",
       "  Text(53, 0, 'June 2022'),\n",
       "  Text(60, 0, 'January 2023'),\n",
       "  Text(65, 0, 'June 2023'),\n",
       "  Text(67, 0, 'August 2023')])"
      ]
     },
     "execution_count": 48,
     "metadata": {},
     "output_type": "execute_result"
    },
    {
     "data": {
      "image/png": "[encoded data removed]",
      "text/plain": [
       "<Figure size 640x480 with 1 Axes>"
      ]
     },
     "metadata": {},
     "output_type": "display_data"
    }
   ],
   "source": [
    "\n",
    "x_axis = np.arange(len(drink_df[\"Date\"]))\n",
    "\n",
    "labels = drink_df[\"Date\"]\n",
    "plt.plot(drink_df[\"Date\"],drink_df[' Month Sales (Thousands)'])\n",
    "plt.xticks([0,5,\n",
    "           12,17,\n",
    "           24,29,\n",
    "           36,41,\n",
    "           48,53,\n",
    "           60,65,67], [\"January 2018\", \"June 2018\",\n",
    "               \"January 2019\", \"June 2019\",\n",
    "               \"January 2020\", \"June 2020\",\n",
    "               \"January 2021\", \"June 2021\", \n",
    "               \"January 2022\", \"June 2022\",\n",
    "               \"January 2023\", \"June 2023\", \"August 2023\"],rotation = 45)"
   ]
  },
  {
   "cell_type": "code",
   "execution_count": 16,
   "id": "ba96b534",
   "metadata": {},
   "outputs": [
    {
     "data": {
      "text/plain": [
       "68"
      ]
     },
     "execution_count": 16,
     "metadata": {},
     "output_type": "execute_result"
    }
   ],
   "source": []
  },
  {
   "cell_type": "code",
   "execution_count": 40,
   "id": "df6c3dc7",
   "metadata": {},
   "outputs": [
    {
     "name": "stdout",
     "output_type": "stream",
     "text": [
      "range(68, 10)\n"
     ]
    }
   ],
   "source": []
  },
  {
   "cell_type": "code",
   "execution_count": null,
   "id": "bebf7381",
   "metadata": {},
   "outputs": [],
   "source": []
  }
 ],
 "metadata": {
  "kernelspec": {
   "display_name": "Python 3 (ipykernel)",
   "language": "python",
   "name": "python3"
  },
  "language_info": {
   "codemirror_mode": {
    "name": "ipython",
    "version": 3
   },
   "file_extension": ".py",
   "mimetype": "text/x-python",
   "name": "python",
   "nbconvert_exporter": "python",
   "pygments_lexer": "ipython3",
   "version": "3.11.5"
  }
 },
 "nbformat": 4,
 "nbformat_minor": 5
}
