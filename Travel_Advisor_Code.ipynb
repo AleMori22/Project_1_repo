{
 "cells": [
  {
   "cell_type": "markdown",
   "id": "8eb221a4",
   "metadata": {},
   "source": [
    "# Travel Advisor Code"
   ]
  },
  {
   "cell_type": "code",
   "execution_count": 2,
   "id": "ea4a7c90",
   "metadata": {},
   "outputs": [],
   "source": [
    "# Dependencies and Setup\n",
    "import matplotlib.pyplot as plt\n",
    "import pandas as pd\n",
    "import numpy as np\n",
    "from pathlib import Path\n",
    "from pprint import pprint\n",
    "from config import api_key\n",
    "import requests"
   ]
  },
  {
   "cell_type": "code",
   "execution_count": 20,
   "id": "d44b0686",
   "metadata": {},
   "outputs": [],
   "source": [
    "\n",
    "#Travel Advisor\n",
    "lat_url = \"https://travel-advisor.p.rapidapi.com/restaurants/list-by-latlng\"\n",
    "\n",
    "lat = 43.65107\n",
    "long = -79.347015\n",
    "\n",
    "lat_querystring = {\"latitude\":lat,\"longitude\":long,\"limit\":\"30\",\"currency\":\"CAD\",\"distance\":\"2\",\"lunit\":\"km\",\"lang\":\"en_US\"}\n",
    "\n",
    "headers = {\n",
    "\"X-RapidAPI-Key\": api_key,\n",
    "\"X-RapidAPI-Host\": \"travel-advisor.p.rapidapi.com\"\n",
    "}\n",
    "\n",
    "response = requests.get(lat_url, headers=headers, params=lat_querystring)\n",
    "\n",
    "\n",
    "location_id = []\n",
    "res_name = []\n",
    "res_add = []\n",
    "review_dates = []\n",
    "count = 0\n",
    "\n",
    "for i in range(len(response.json()[\"data\"])):\n",
    "    location_id.append(response.json()[\"data\"][i][\"location_id\"])\n",
    "\n",
    "loc_url = \"https://travel-advisor.p.rapidapi.com/restaurants/get-details\"\n",
    "\n",
    "for loc_id in location_id:\n",
    "    loc_querystring = {\"location_id\":loc_id,\"currency\":\"CAD\",\"lang\":\"en_US\"}\n",
    "\n",
    "    resturants = requests.get(loc_url, headers=headers, params=loc_querystring)\n",
    "    \n",
    "    if \"address\" in resturants.json():\n",
    "        res_name.append(resturants.json()[\"name\"])\n",
    "        res_add.append(resturants.json()[\"address\"])\n",
    "        \n",
    "        if int(resturants.json()[\"num_reviews\"]) > 0:\n",
    "            review_dates.append(resturants.json()[\"reviews\"][0][\"published_date\"])\n",
    "        else:\n",
    "            review_dates.append(\"\")\n",
    "\n",
    "\n",
    "\n",
    "data = {\n",
    "    \"Name\" : res_name,\n",
    "    \"Address\" : res_add,\n",
    "    \"Reviews\" : review_dates\n",
    "    \n",
    "    \n",
    "}\n",
    "\n",
    "\n",
    "df = pd.DataFrame(data)\n",
    "\n",
    "df_filtered = df[df['Reviews'] != \"\"]\n",
    "\n",
    "df_filtered\n",
    "\n",
    "df_filtered.to_csv(\"Travel_Advisor.csv\")"
   ]
  },
  {
   "cell_type": "code",
   "execution_count": null,
   "id": "0371916b",
   "metadata": {},
   "outputs": [],
   "source": []
  }
 ],
 "metadata": {
  "kernelspec": {
   "display_name": "Python 3 (ipykernel)",
   "language": "python",
   "name": "python3"
  },
  "language_info": {
   "codemirror_mode": {
    "name": "ipython",
    "version": 3
   },
   "file_extension": ".py",
   "mimetype": "text/x-python",
   "name": "python",
   "nbconvert_exporter": "python",
   "pygments_lexer": "ipython3",
   "version": "3.11.5"
  }
 },
 "nbformat": 4,
 "nbformat_minor": 5
}
