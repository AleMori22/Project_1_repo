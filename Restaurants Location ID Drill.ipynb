{
 "cells": [
  {
   "cell_type": "code",
   "execution_count": null,
   "id": "f9188861",
   "metadata": {},
   "outputs": [],
   "source": [
    "#Import restaurants.csv\n",
    "Restaurants_df = pd.read_csv('output_data/restaurants.csv')"
   ]
  },
  {
   "cell_type": "code",
   "execution_count": null,
   "id": "dadb2845",
   "metadata": {},
   "outputs": [],
   "source": [
    "#Drill for location_id\n",
    "\n",
    "Restaurants_df['Location ID'] = ''\n",
    "\n",
    "err_count = 0\n",
    "\n",
    "for index, restaurant in Restaurants_df.iterrows():\n",
    "    \n",
    "    url = f\"https://api.content.tripadvisor.com/api/v1/location/search?key={Trip_advisor_key}&searchQuery={restaurant['Restaurant Name']}&language=en\"\n",
    "\n",
    "    headers = {\"accept\": \"application/json\"}\n",
    "\n",
    "    response = requests.get(url, headers=headers).json()\n",
    "    \n",
    "    try:\n",
    "        \n",
    "        for res in response['data']:\n",
    "    \n",
    "            if res['address_obj']['postalcode'] == restaurant['Postal Code']:\n",
    "            \n",
    "                Restaurants_df.at[index, 'Location ID'] = res['location_id']\n",
    "                \n",
    "                break\n",
    "    \n",
    "    except Exception as e:\n",
    "        \n",
    "        err_count = err_count +1\n",
    "        \n",
    "        \n",
    "#print(response.text)\n",
    "print(err_count)\n",
    "Restaurants_df.head()"
   ]
  },
  {
   "cell_type": "code",
   "execution_count": null,
   "id": "2ff840a5",
   "metadata": {},
   "outputs": [],
   "source": [
    "#Drop row with empty records\n",
    "Restaurants_df = Restaurants_df[Restaurants_df['Location ID'] != '']\n",
    "Restaurants_df"
   ]
  },
  {
   "cell_type": "code",
   "execution_count": null,
   "id": "c8fdf5c6",
   "metadata": {},
   "outputs": [],
   "source": [
    "# Export the Restaurant_df with restaurants Location ID into a csv \n",
    "Restaurants_df.to_csv(\"output_data/restaurants.csv\", index = False)"
   ]
  }
 ],
 "metadata": {
  "kernelspec": {
   "display_name": "Python 3 (ipykernel)",
   "language": "python",
   "name": "python3"
  },
  "language_info": {
   "codemirror_mode": {
    "name": "ipython",
    "version": 3
   },
   "file_extension": ".py",
   "mimetype": "text/x-python",
   "name": "python",
   "nbconvert_exporter": "python",
   "pygments_lexer": "ipython3",
   "version": "3.11.5"
  }
 },
 "nbformat": 4,
 "nbformat_minor": 5
}
