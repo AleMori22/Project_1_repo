{
 "cells": [
  {
   "cell_type": "code",
   "execution_count": null,
   "id": "f9188861",
   "metadata": {},
   "outputs": [],
   "source": [
    "#Import restaurants.csv\n",
    "Restaurants_df = pd.read_csv('output_data/restaurants.csv')"
   ]
  },
  {
   "cell_type": "code",
   "execution_count": null,
   "id": "845a43e7",
   "metadata": {},
   "outputs": [],
   "source": [
    "#Drill for reviews \n",
    "\n",
    "#New df Reviews\n",
    "Reviews_df = pd.DataFrame(columns=['Location','Restaurant Name','Lat','Lng','Review'])\n",
    "\n",
    "#Looooppping!!! Again. Yes.\n",
    "for index, restaurant in Restaurants_df.iterrows():\n",
    "    \n",
    "    url = f\"https://api.content.tripadvisor.com/api/v1/location/{restaurant['Location ID']}/reviews?key={Trip_advisor_key}&language=en\"\n",
    "    \n",
    "    headers = {\"accept\": \"application/json\"}\n",
    "    \n",
    "    response = requests.get(url, headers=headers).json()\n",
    "    \n",
    "    #Let's try this!!!\n",
    "    try:\n",
    "        \n",
    "        for res in response['data']: \n",
    "            \n",
    "            new_row = {'Location' : restaurant['Location'],\n",
    "                       'Restaurant Name' : restaurant['Restaurant Name'],\n",
    "                       'Lat': restaurant['Lat'],\n",
    "                       'Lng': restaurant['Lng'],\n",
    "                       'Review' : res['rating']}\n",
    "            Reviews_df.loc[len(Reviews_df)] = new_row\n",
    "    \n",
    "    except(KeyError, IndexError):\n",
    "            print('Error.')\n",
    "            "
   ]
  },
  {
   "cell_type": "code",
   "execution_count": null,
   "id": "8b5a364e",
   "metadata": {},
   "outputs": [],
   "source": [
    "#Show the dataset\n",
    "Reviews_df.head()"
   ]
  },
  {
   "cell_type": "code",
   "execution_count": null,
   "id": "ac4cc49d",
   "metadata": {},
   "outputs": [],
   "source": [
    "Reviews_df.to_csv(\"output_data/Reviews.csv\", index = False)"
   ]
  }
 ],
 "metadata": {
  "kernelspec": {
   "display_name": "Python 3 (ipykernel)",
   "language": "python",
   "name": "python3"
  },
  "language_info": {
   "codemirror_mode": {
    "name": "ipython",
    "version": 3
   },
   "file_extension": ".py",
   "mimetype": "text/x-python",
   "name": "python",
   "nbconvert_exporter": "python",
   "pygments_lexer": "ipython3",
   "version": "3.11.5"
  }
 },
 "nbformat": 4,
 "nbformat_minor": 5
}
