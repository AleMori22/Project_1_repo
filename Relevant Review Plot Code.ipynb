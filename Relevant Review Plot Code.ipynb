{
 "cells": [
  {
   "cell_type": "code",
   "execution_count": 2,
   "id": "aec8e42f",
   "metadata": {},
   "outputs": [],
   "source": [
    "# Dependencies and Setup\n",
    "import matplotlib.pyplot as plt\n",
    "import pandas as pd\n",
    "import numpy as np\n",
    "from pathlib import Path\n",
    "from pprint import pprint\n",
    "from config import api_key\n",
    "import requests"
   ]
  },
  {
   "cell_type": "code",
   "execution_count": 3,
   "id": "27f58b27",
   "metadata": {},
   "outputs": [
    {
     "data": {
      "text/html": [
       "<div>\n",
       "<style scoped>\n",
       "    .dataframe tbody tr th:only-of-type {\n",
       "        vertical-align: middle;\n",
       "    }\n",
       "\n",
       "    .dataframe tbody tr th {\n",
       "        vertical-align: top;\n",
       "    }\n",
       "\n",
       "    .dataframe thead th {\n",
       "        text-align: right;\n",
       "    }\n",
       "</style>\n",
       "<table border=\"1\" class=\"dataframe\">\n",
       "  <thead>\n",
       "    <tr style=\"text-align: right;\">\n",
       "      <th></th>\n",
       "      <th>Address</th>\n",
       "      <th>Reviews</th>\n",
       "    </tr>\n",
       "    <tr>\n",
       "      <th>Name</th>\n",
       "      <th></th>\n",
       "      <th></th>\n",
       "    </tr>\n",
       "  </thead>\n",
       "  <tbody>\n",
       "    <tr>\n",
       "      <th>Keating Channel Pub and Grill</th>\n",
       "      <td>2 Villiers St, Toronto, Ontario M5A 1B1 Canada</td>\n",
       "      <td>2023-09-25T00:20:35-04:00</td>\n",
       "    </tr>\n",
       "    <tr>\n",
       "      <th>Sukhothai</th>\n",
       "      <td>490 Front St E, Toronto, Ontario M5A 0J1 Canada</td>\n",
       "      <td>2023-06-12T20:29:25-04:00</td>\n",
       "    </tr>\n",
       "    <tr>\n",
       "      <th>The Aviary</th>\n",
       "      <td>484A Front St E, Toronto, Ontario M5A 0J1 Canada</td>\n",
       "      <td>2022-08-14T07:22:13-04:00</td>\n",
       "    </tr>\n",
       "    <tr>\n",
       "      <th>District 28</th>\n",
       "      <td>28 Logan Ave, Toronto, Ontario M4M 2M8 Canada</td>\n",
       "      <td>2018-02-05T08:21:55-05:00</td>\n",
       "    </tr>\n",
       "    <tr>\n",
       "      <th>Cherry Street Bar-B-Que</th>\n",
       "      <td>275 Cherry St, Toronto, Ontario M5A 3L3 Canada</td>\n",
       "      <td>2023-09-03T08:19:17-04:00</td>\n",
       "    </tr>\n",
       "    <tr>\n",
       "      <th>...</th>\n",
       "      <td>...</td>\n",
       "      <td>...</td>\n",
       "    </tr>\n",
       "    <tr>\n",
       "      <th>Patria</th>\n",
       "      <td>478 King Street West, Toronto, Ontario Canada</td>\n",
       "      <td>2016-08-11T13:19:51-0400</td>\n",
       "    </tr>\n",
       "    <tr>\n",
       "      <th>Ruth's Chris Steak House</th>\n",
       "      <td>145 Richmond St W Hilton Toronto Hotel, Toront...</td>\n",
       "      <td>2013-11-05T11:36:12-0500</td>\n",
       "    </tr>\n",
       "    <tr>\n",
       "      <th>The Senator Restaurant</th>\n",
       "      <td>249 Victoria St, Toronto, Ontario M5B 1T8 Canada</td>\n",
       "      <td>2019-04-04T10:36:19-0400</td>\n",
       "    </tr>\n",
       "    <tr>\n",
       "      <th>Fresh on Spadina</th>\n",
       "      <td>147 Spadina Ave, Toronto, Ontario M5V 2L7 Canada</td>\n",
       "      <td>2019-07-18T20:03:40-0400</td>\n",
       "    </tr>\n",
       "    <tr>\n",
       "      <th>The Shore Club</th>\n",
       "      <td>155 Wellington St W, Toronto, Ontario M5V 3H1 ...</td>\n",
       "      <td>2015-04-09T18:22:38-0400</td>\n",
       "    </tr>\n",
       "  </tbody>\n",
       "</table>\n",
       "<p>171 rows × 2 columns</p>\n",
       "</div>"
      ],
      "text/plain": [
       "                                                                         Address  \\\n",
       "Name                                                                               \n",
       "Keating Channel Pub and Grill     2 Villiers St, Toronto, Ontario M5A 1B1 Canada   \n",
       "Sukhothai                        490 Front St E, Toronto, Ontario M5A 0J1 Canada   \n",
       "The Aviary                      484A Front St E, Toronto, Ontario M5A 0J1 Canada   \n",
       "District 28                        28 Logan Ave, Toronto, Ontario M4M 2M8 Canada   \n",
       "Cherry Street Bar-B-Que           275 Cherry St, Toronto, Ontario M5A 3L3 Canada   \n",
       "...                                                                          ...   \n",
       "Patria                             478 King Street West, Toronto, Ontario Canada   \n",
       "Ruth's Chris Steak House       145 Richmond St W Hilton Toronto Hotel, Toront...   \n",
       "The Senator Restaurant          249 Victoria St, Toronto, Ontario M5B 1T8 Canada   \n",
       "Fresh on Spadina                147 Spadina Ave, Toronto, Ontario M5V 2L7 Canada   \n",
       "The Shore Club                 155 Wellington St W, Toronto, Ontario M5V 3H1 ...   \n",
       "\n",
       "                                                 Reviews  \n",
       "Name                                                      \n",
       "Keating Channel Pub and Grill  2023-09-25T00:20:35-04:00  \n",
       "Sukhothai                      2023-06-12T20:29:25-04:00  \n",
       "The Aviary                     2022-08-14T07:22:13-04:00  \n",
       "District 28                    2018-02-05T08:21:55-05:00  \n",
       "Cherry Street Bar-B-Que        2023-09-03T08:19:17-04:00  \n",
       "...                                                  ...  \n",
       "Patria                          2016-08-11T13:19:51-0400  \n",
       "Ruth's Chris Steak House        2013-11-05T11:36:12-0500  \n",
       "The Senator Restaurant          2019-04-04T10:36:19-0400  \n",
       "Fresh on Spadina                2019-07-18T20:03:40-0400  \n",
       "The Shore Club                  2015-04-09T18:22:38-0400  \n",
       "\n",
       "[171 rows x 2 columns]"
      ]
     },
     "execution_count": 3,
     "metadata": {},
     "output_type": "execute_result"
    }
   ],
   "source": [
    "travel_advisor_csv = Path(\"output/Travel_Advisor.csv\")\n",
    "trip_advisor_csv = Path(\"output/Trip_Advisor.csv\")\n",
    "\n",
    "travel_advisor_pd = pd.read_csv(travel_advisor_csv)\n",
    "trip_advisor_pd = pd.read_csv(trip_advisor_csv)\n",
    "\n",
    "frames = [travel_advisor_pd, trip_advisor_pd]\n",
    " \n",
    "result = pd.concat(frames)\n",
    "result\n",
    "result_filtered = result.drop('Unnamed: 0', axis=1)\n",
    "result_filtered.set_index('Name')"
   ]
  },
  {
   "cell_type": "code",
   "execution_count": 12,
   "id": "ea80b5ec",
   "metadata": {},
   "outputs": [],
   "source": [
    "date = \"\"\n",
    "dates = []\n",
    "for i in result_filtered[\"Reviews\"]:\n",
    "    dates.append(int(i[:4]))"
   ]
  },
  {
   "cell_type": "code",
   "execution_count": 5,
   "id": "ab06bb74",
   "metadata": {},
   "outputs": [
    {
     "data": {
      "image/png": "[encoded data removed]",
      "text/plain": [
       "<Figure size 640x480 with 1 Axes>"
      ]
     },
     "metadata": {},
     "output_type": "display_data"
    }
   ],
   "source": [
    "dates_df = pd.DataFrame({\"Dates\":dates})\n",
    "colors = ['#99fdcb', '#ff7f0e', '#2ca02c', '#d62728', '#9467bd',\n",
    "          '#8c564b', '#e377c2', '#7f7f7f', '#bcbd22', '#17becf',\"#df3a45\",\"#eed508\"]\n",
    "dates_df.value_counts().plot(kind = \"bar\",color = colors)\n",
    "plt.ylabel(\"Number of Restaurants\")\n",
    "plt.title(\"Date of Most Relevant Review\")\n",
    "plt.savefig(\"output/Relevant_Review.png\")"
   ]
  },
  {
   "cell_type": "code",
   "execution_count": null,
   "id": "8723726c",
   "metadata": {},
   "outputs": [],
   "source": []
  }
 ],
 "metadata": {
  "kernelspec": {
   "display_name": "Python 3 (ipykernel)",
   "language": "python",
   "name": "python3"
  },
  "language_info": {
   "codemirror_mode": {
    "name": "ipython",
    "version": 3
   },
   "file_extension": ".py",
   "mimetype": "text/x-python",
   "name": "python",
   "nbconvert_exporter": "python",
   "pygments_lexer": "ipython3",
   "version": "3.11.5"
  }
 },
 "nbformat": 4,
 "nbformat_minor": 5
}
