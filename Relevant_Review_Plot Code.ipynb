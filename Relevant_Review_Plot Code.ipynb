{
 "cells": [
  {
   "cell_type": "markdown",
   "id": "a5d65438",
   "metadata": {},
   "source": [
    "# Relevant Review Plot\n",
    "### This code takes the .csv from the TripAdvisor and TravelAdvisor code and plots the dates in which the most relevant reviews were uploaded."
   ]
  },
  {
   "cell_type": "code",
   "execution_count": 1,
   "id": "aec8e42f",
   "metadata": {},
   "outputs": [],
   "source": [
    "# Dependencies and Setup\n",
    "import matplotlib.pyplot as plt\n",
    "import pandas as pd\n",
    "from pathlib import Path\n",
    "from pprint import pprint"
   ]
  },
  {
   "cell_type": "code",
   "execution_count": 2,
   "id": "27f58b27",
   "metadata": {},
   "outputs": [
    {
     "data": {
      "text/html": [
       "<div>\n",
       "<style scoped>\n",
       "    .dataframe tbody tr th:only-of-type {\n",
       "        vertical-align: middle;\n",
       "    }\n",
       "\n",
       "    .dataframe tbody tr th {\n",
       "        vertical-align: top;\n",
       "    }\n",
       "\n",
       "    .dataframe thead th {\n",
       "        text-align: right;\n",
       "    }\n",
       "</style>\n",
       "<table border=\"1\" class=\"dataframe\">\n",
       "  <thead>\n",
       "    <tr style=\"text-align: right;\">\n",
       "      <th></th>\n",
       "      <th>Address</th>\n",
       "      <th>Reviews</th>\n",
       "    </tr>\n",
       "    <tr>\n",
       "      <th>Name</th>\n",
       "      <th></th>\n",
       "      <th></th>\n",
       "    </tr>\n",
       "  </thead>\n",
       "  <tbody>\n",
       "    <tr>\n",
       "      <th>Keating Channel Pub and Grill</th>\n",
       "      <td>2 Villiers St, Toronto, Ontario M5A 1B1 Canada</td>\n",
       "      <td>2023-09-25T00:20:35-04:00</td>\n",
       "    </tr>\n",
       "    <tr>\n",
       "      <th>Sukhothai</th>\n",
       "      <td>490 Front St E, Toronto, Ontario M5A 0J1 Canada</td>\n",
       "      <td>2023-06-12T20:29:25-04:00</td>\n",
       "    </tr>\n",
       "    <tr>\n",
       "      <th>The Aviary</th>\n",
       "      <td>484A Front St E, Toronto, Ontario M5A 0J1 Canada</td>\n",
       "      <td>2022-08-14T07:22:13-04:00</td>\n",
       "    </tr>\n",
       "    <tr>\n",
       "      <th>District 28</th>\n",
       "      <td>28 Logan Ave, Toronto, Ontario M4M 2M8 Canada</td>\n",
       "      <td>2018-02-05T08:21:55-05:00</td>\n",
       "    </tr>\n",
       "    <tr>\n",
       "      <th>Cherry Street Bar-B-Que</th>\n",
       "      <td>275 Cherry St, Toronto, Ontario M5A 3L3 Canada</td>\n",
       "      <td>2023-09-03T08:19:17-04:00</td>\n",
       "    </tr>\n",
       "    <tr>\n",
       "      <th>...</th>\n",
       "      <td>...</td>\n",
       "      <td>...</td>\n",
       "    </tr>\n",
       "    <tr>\n",
       "      <th>Cafe Chat l'Heureux</th>\n",
       "      <td>172, Duluth East Plateau Mont-Royal, Montreal,...</td>\n",
       "      <td>2014-11-14T21:36:46-0500</td>\n",
       "    </tr>\n",
       "    <tr>\n",
       "      <th>Restaurant Bonaparte</th>\n",
       "      <td>443 Rue St. Francois Xavier, Montreal, Quebec ...</td>\n",
       "      <td>2023-06-12T14:52:27-0400</td>\n",
       "    </tr>\n",
       "    <tr>\n",
       "      <th>Cadet</th>\n",
       "      <td>1431 St-Laurent Boulevard, Montreal, Quebec H2...</td>\n",
       "      <td>2018-02-23T07:27:01-0500</td>\n",
       "    </tr>\n",
       "    <tr>\n",
       "      <th>Il Focolaio</th>\n",
       "      <td>1223 Rue du Square-Phillips, Montreal, Quebec ...</td>\n",
       "      <td>2017-05-01T18:59:25-0400</td>\n",
       "    </tr>\n",
       "    <tr>\n",
       "      <th>Bis</th>\n",
       "      <td>1229 Rue de la Montagne, Montreal, Quebec H3G ...</td>\n",
       "      <td>2016-04-15T12:19:16-0400</td>\n",
       "    </tr>\n",
       "  </tbody>\n",
       "</table>\n",
       "<p>323 rows × 2 columns</p>\n",
       "</div>"
      ],
      "text/plain": [
       "                                                                         Address  \\\n",
       "Name                                                                               \n",
       "Keating Channel Pub and Grill     2 Villiers St, Toronto, Ontario M5A 1B1 Canada   \n",
       "Sukhothai                        490 Front St E, Toronto, Ontario M5A 0J1 Canada   \n",
       "The Aviary                      484A Front St E, Toronto, Ontario M5A 0J1 Canada   \n",
       "District 28                        28 Logan Ave, Toronto, Ontario M4M 2M8 Canada   \n",
       "Cherry Street Bar-B-Que           275 Cherry St, Toronto, Ontario M5A 3L3 Canada   \n",
       "...                                                                          ...   \n",
       "Cafe Chat l'Heureux            172, Duluth East Plateau Mont-Royal, Montreal,...   \n",
       "Restaurant Bonaparte           443 Rue St. Francois Xavier, Montreal, Quebec ...   \n",
       "Cadet                          1431 St-Laurent Boulevard, Montreal, Quebec H2...   \n",
       "Il Focolaio                    1223 Rue du Square-Phillips, Montreal, Quebec ...   \n",
       "Bis                            1229 Rue de la Montagne, Montreal, Quebec H3G ...   \n",
       "\n",
       "                                                 Reviews  \n",
       "Name                                                      \n",
       "Keating Channel Pub and Grill  2023-09-25T00:20:35-04:00  \n",
       "Sukhothai                      2023-06-12T20:29:25-04:00  \n",
       "The Aviary                     2022-08-14T07:22:13-04:00  \n",
       "District 28                    2018-02-05T08:21:55-05:00  \n",
       "Cherry Street Bar-B-Que        2023-09-03T08:19:17-04:00  \n",
       "...                                                  ...  \n",
       "Cafe Chat l'Heureux             2014-11-14T21:36:46-0500  \n",
       "Restaurant Bonaparte            2023-06-12T14:52:27-0400  \n",
       "Cadet                           2018-02-23T07:27:01-0500  \n",
       "Il Focolaio                     2017-05-01T18:59:25-0400  \n",
       "Bis                             2016-04-15T12:19:16-0400  \n",
       "\n",
       "[323 rows x 2 columns]"
      ]
     },
     "execution_count": 2,
     "metadata": {},
     "output_type": "execute_result"
    }
   ],
   "source": [
    "travel_advisor_csv = Path(\"output/Travel_Advisor.csv\")\n",
    "trip_advisor_csv = Path(\"output/Trip_Advisor.csv\")\n",
    "\n",
    "travel_advisor_pd = pd.read_csv(travel_advisor_csv)\n",
    "trip_advisor_pd = pd.read_csv(trip_advisor_csv)\n",
    "\n",
    "frames = [travel_advisor_pd, trip_advisor_pd]\n",
    " \n",
    "result = pd.concat(frames) #combines the two data frames together \n",
    "result\n",
    "result_filtered = result.drop('Unnamed: 0', axis=1)\n",
    "result_filtered.set_index('Name')"
   ]
  },
  {
   "cell_type": "code",
   "execution_count": 3,
   "id": "ea80b5ec",
   "metadata": {},
   "outputs": [],
   "source": [
    "date = \"\"\n",
    "dates = []\n",
    "for i in result_filtered[\"Reviews\"]:\n",
    "    dates.append(int(i[:4])) #Extracts the just the year of review from the Review coloumn"
   ]
  },
  {
   "cell_type": "code",
   "execution_count": 4,
   "id": "ab06bb74",
   "metadata": {},
   "outputs": [
    {
     "data": {
      "image/png": "[encoded data removed]",
      "text/plain": [
       "<Figure size 640x480 with 1 Axes>"
      ]
     },
     "metadata": {},
     "output_type": "display_data"
    }
   ],
   "source": [
    "dates_df = pd.DataFrame({\"Dates\":dates})\n",
    "colors = ['#99fdcb', '#ff7f0e', '#2ca02c', '#d62728', '#9467bd',\n",
    "          '#8c564b', '#e377c2', '#7f7f7f', '#bcbd22', '#17becf',\"#df3a45\",\"#eed508\"]\n",
    "dates_df.value_counts().plot(kind = \"bar\",color = colors)\n",
    "plt.ylabel(\"Number of Restaurants\")\n",
    "plt.title(\"Date of Most Relevant Review\")\n",
    "plt.savefig(\"output/Relevant_Review.png\")"
   ]
  },
  {
   "cell_type": "code",
   "execution_count": null,
   "id": "8723726c",
   "metadata": {},
   "outputs": [],
   "source": []
  }
 ],
 "metadata": {
  "kernelspec": {
   "display_name": "Python 3 (ipykernel)",
   "language": "python",
   "name": "python3"
  },
  "language_info": {
   "codemirror_mode": {
    "name": "ipython",
    "version": 3
   },
   "file_extension": ".py",
   "mimetype": "text/x-python",
   "name": "python",
   "nbconvert_exporter": "python",
   "pygments_lexer": "ipython3",
   "version": "3.11.5"
  }
 },
 "nbformat": 4,
 "nbformat_minor": 5
}
