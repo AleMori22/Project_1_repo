{
 "cells": [
  {
   "cell_type": "code",
   "execution_count": null,
   "id": "288978b0",
   "metadata": {},
   "outputs": [],
   "source": []
  },
  {
   "cell_type": "code",
   "execution_count": null,
   "id": "acf2e7e8",
   "metadata": {},
   "outputs": [],
   "source": [
    "#Preparing the plotting chart\n",
    "Reviews_df = pd.read_csv('output_data/Reviews.csv')\n",
    "\n",
    "Districts_df = pd.read_csv('output_data/Districts.csv')\n",
    "\n",
    "#Reviews_df\n",
    "\n",
    "#Districts_df\n",
    "\n",
    "Plotting_df = Reviews_df.merge(Districts_df, on='Location', how='left')\n",
    "\n",
    "Plotting_df.columns = Plotting_df.columns.str.replace('_x', ' Restaurant').str.replace('_y', ' Location')\n",
    "\n",
    "Plotting_df = Plotting_df.drop('Restaurant ID', axis=1)\n",
    "\n",
    "average_reviews = Plotting_df.groupby('Restaurant Name')['Review'].mean().reset_index()\n",
    "\n",
    "Plotting_df = Plotting_df.merge(average_reviews, on='Restaurant Name', suffixes=('', '_average'))\n",
    "\n",
    "\n",
    "Plotting_df.head()"
   ]
  },
  {
   "cell_type": "code",
   "execution_count": null,
   "id": "73cf1950",
   "metadata": {},
   "outputs": [],
   "source": [
    "Districts_map = Plotting_df.hvplot.points(\n",
    "    'Lng Location',\n",
    "    'Lat Location',\n",
    "    geo = True,\n",
    "    tiles = 'OSM',\n",
    "    color = 'Location',\n",
    "    frame_width = 800,\n",
    "    frame_height = 600,\n",
    "    hover_cols=['Location','Restaurant Name'],\n",
    "    size = 200\n",
    ")\n",
    "\n",
    "\n",
    "Districts_map\n",
    "\n",
    "#Save the map\n"
   ]
  },
  {
   "cell_type": "code",
   "execution_count": null,
   "id": "94f268c5",
   "metadata": {},
   "outputs": [],
   "source": [
    "# Mean and color setting\n",
    "avg_reviews = Plotting_df.groupby(['Location', 'Restaurant Name'])['Review'].mean().reset_index()\n",
    "colors = ['skyblue' if x >= 3 else 'lightcoral' for x in avg_reviews['Review']]\n",
    "\n",
    "# Plotting\n",
    "plt.figure(figsize=(12, 8))\n",
    "plt.bar(avg_reviews['Location'], avg_reviews['Review'], color=colors)\n",
    "plt.title('Average Review for Location')\n",
    "plt.xlabel('Location')\n",
    "plt.ylabel('Average Review')\n",
    "plt.xticks(rotation=45)\n",
    "\n",
    "plt.show()\n",
    "\n",
    "\n",
    "#Save the plot\n",
    "\n"
   ]
  }
 ],
 "metadata": {
  "kernelspec": {
   "display_name": "Python 3 (ipykernel)",
   "language": "python",
   "name": "python3"
  },
  "language_info": {
   "codemirror_mode": {
    "name": "ipython",
    "version": 3
   },
   "file_extension": ".py",
   "mimetype": "text/x-python",
   "name": "python",
   "nbconvert_exporter": "python",
   "pygments_lexer": "ipython3",
   "version": "3.11.5"
  }
 },
 "nbformat": 4,
 "nbformat_minor": 5
}
